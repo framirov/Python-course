{
 "cells": [
  {
   "cell_type": "code",
   "execution_count": null,
   "metadata": {},
   "outputs": [],
   "source": [
    "a, b, c = int(input()), int(input()), int(input())\n",
    "p = (a + b + c)/2\n",
    "print((p * (p-a) * (p-b) * (p-c)) ** 0.5)"
   ]
  },
  {
   "cell_type": "code",
   "execution_count": null,
   "metadata": {},
   "outputs": [],
   "source": [
    "a = int(input())\n",
    "print(((a > -15) & (a <= 12)) | ((a > 14) & (a < 17)) | (a >= 19))"
   ]
  },
  {
   "cell_type": "code",
   "execution_count": null,
   "metadata": {},
   "outputs": [],
   "source": [
    "a, b, o = float(input()), float(input()), str(input())\n",
    "if (o == '+'):\n",
    "    print(a+b)\n",
    "if (o == '-'):\n",
    "    print(a-b)\n",
    "if (o == '*'):\n",
    "    print(a*b)\n",
    "if (o == '/'):\n",
    "    if (b != 0):\n",
    "        print(a/b)\n",
    "    else:\n",
    "        print('Деление на 0!')\n",
    "if (o == 'mod'):\n",
    "    if (b != 0):\n",
    "        print(a%b)\n",
    "    else:\n",
    "        print('Деление на 0!')\n",
    "if (o == 'div'):\n",
    "    if (b != 0):\n",
    "        print(a // b)\n",
    "    else:\n",
    "        print('Деление на 0!')\n",
    "if (o == 'pow'):\n",
    "    print(a ** b)"
   ]
  },
  {
   "cell_type": "code",
   "execution_count": null,
   "metadata": {},
   "outputs": [],
   "source": [
    "t = str(input())\n",
    "if (t == 'треугольник'):\n",
    "    a, b, c = int(input()), int(input()), int(input())\n",
    "    p = (a + b + c)/2\n",
    "    print((p * (p-a) * (p-b) * (p-c)) ** 0.5)\n",
    "if (t == 'прямоугольник'):\n",
    "    a, b = int(input()), int(input())\n",
    "    print(a * b)\n",
    "if (t == 'круг'):\n",
    "    r = int(input())\n",
    "    print(3.14 * (r ** 2))"
   ]
  },
  {
   "cell_type": "code",
   "execution_count": null,
   "metadata": {},
   "outputs": [],
   "source": [
    "a, b, c = int(input()), int(input()), int(input())\n",
    "print(max(a,b,c))\n",
    "print(min(a,b,c))\n",
    "print(a + b + c - max(a,b,c) - min(a,b,c))"
   ]
  },
  {
   "cell_type": "code",
   "execution_count": null,
   "metadata": {},
   "outputs": [],
   "source": [
    "n = int(input())\n",
    "if (n % 100 > 10) & (n % 100 < 20):\n",
    "    print(n, 'программистов')\n",
    "else:\n",
    "    if (n % 10 == 1):\n",
    "        print(n, 'программист')\n",
    "    elif (n % 10 == 2) | (n % 10 == 3) | (n % 10 == 4):\n",
    "        print(n, 'программиста')\n",
    "    else:\n",
    "        print(n, 'программистов')"
   ]
  },
  {
   "cell_type": "code",
   "execution_count": null,
   "metadata": {},
   "outputs": [],
   "source": [
    "n = int(input())\n",
    "s1 = (n % 10) + ((n % 100) - (n % 10))/10 + ((n % 1000) - (n % 100))/100\n",
    "n //= 1000\n",
    "s2 = (n % 10) + ((n % 100) - (n % 10))/10 + ((n % 1000) - (n % 100))/100\n",
    "if (s1 == s2):\n",
    "    print('Счастливый')\n",
    "else:\n",
    "    print('Обычный')"
   ]
  }
 ],
 "metadata": {
  "kernelspec": {
   "display_name": "Python 3",
   "language": "python",
   "name": "python3"
  },
  "language_info": {
   "codemirror_mode": {
    "name": "ipython",
    "version": 3
   },
   "file_extension": ".py",
   "mimetype": "text/x-python",
   "name": "python",
   "nbconvert_exporter": "python",
   "pygments_lexer": "ipython3",
   "version": "3.8.3"
  }
 },
 "nbformat": 4,
 "nbformat_minor": 4
}
