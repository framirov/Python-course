{
 "cells": [
  {
   "cell_type": "code",
   "execution_count": null,
   "metadata": {},
   "outputs": [],
   "source": [
    "a, b, c, d= int(input()), int(input()), int(input()), int(input())\n",
    "st = '\\t'\n",
    "for i in range (c, d+1):\n",
    "    st = st + str(i) + '\\t'\n",
    "print(st)\n",
    "for i in range (a, b+1):\n",
    "    st = str(i)\n",
    "    for j in range (c, d+1):\n",
    "        st += '\\t' + str(i*j)\n",
    "    print(st)"
   ]
  },
  {
   "cell_type": "code",
   "execution_count": null,
   "metadata": {},
   "outputs": [],
   "source": [
    "a, b = int(input()), int(input())\n",
    "summ = 0\n",
    "count = 0\n",
    "for i in range(a,b+1):\n",
    "    if (i % 3 == 0):\n",
    "        summ += i\n",
    "        count += 1\n",
    "print(summ/count)"
   ]
  }
 ],
 "metadata": {
  "kernelspec": {
   "display_name": "Python 3",
   "language": "python",
   "name": "python3"
  },
  "language_info": {
   "codemirror_mode": {
    "name": "ipython",
    "version": 3
   },
   "file_extension": ".py",
   "mimetype": "text/x-python",
   "name": "python",
   "nbconvert_exporter": "python",
   "pygments_lexer": "ipython3",
   "version": "3.8.3"
  }
 },
 "nbformat": 4,
 "nbformat_minor": 4
}
