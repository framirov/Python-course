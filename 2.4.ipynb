{
 "cells": [
  {
   "cell_type": "code",
   "execution_count": null,
   "metadata": {},
   "outputs": [],
   "source": [
    "st = str(input()).upper()\n",
    "print ((st.count('C')+ st.count('G'))/len(st) * 100)"
   ]
  },
  {
   "cell_type": "code",
   "execution_count": null,
   "metadata": {},
   "outputs": [],
   "source": [
    "st = str(input())\n",
    "ans = ''\n",
    "sstart = st[0]\n",
    "prev = st[0]\n",
    "count = 1\n",
    "for i in st[1:]:\n",
    "    if (i == prev):\n",
    "        count+= 1\n",
    "        continue\n",
    "    else:\n",
    "        ans += prev + str(count)\n",
    "        prev = i\n",
    "        count = 1\n",
    "print(ans + prev + str(count))"
   ]
  }
 ],
 "metadata": {
  "kernelspec": {
   "display_name": "Python 3",
   "language": "python",
   "name": "python3"
  },
  "language_info": {
   "codemirror_mode": {
    "name": "ipython",
    "version": 3
   },
   "file_extension": ".py",
   "mimetype": "text/x-python",
   "name": "python",
   "nbconvert_exporter": "python",
   "pygments_lexer": "ipython3",
   "version": "3.8.3"
  }
 },
 "nbformat": 4,
 "nbformat_minor": 4
}
