{
 "cells": [
  {
   "cell_type": "code",
   "execution_count": null,
   "metadata": {},
   "outputs": [],
   "source": [
    "a = [int(i) for i  in input().split()]\n",
    "print(sum(a))"
   ]
  },
  {
   "cell_type": "code",
   "execution_count": null,
   "metadata": {},
   "outputs": [],
   "source": [
    "a = [int(i) for i  in input().split()]\n",
    "ans = ''\n",
    "if (len(a) == 1):\n",
    "    print(str(a[0]))\n",
    "else:\n",
    "    for i in range(len(a)):\n",
    "        ans += str(a[(i-1) % len(a) ] + a[(i+1) % len(a)]) + ' '\n",
    "    print(ans)"
   ]
  },
  {
   "cell_type": "code",
   "execution_count": null,
   "metadata": {},
   "outputs": [],
   "source": [
    "a = [int(i) for i  in input().split()]\n",
    "ans = ''\n",
    "was = []\n",
    "already = []\n",
    "for i in a:\n",
    "    if (i in was) & (i not in already):\n",
    "        already += [i]\n",
    "        ans += str(i) + ' '\n",
    "    if (i not in was):\n",
    "        was += [i]\n",
    "print(ans)"
   ]
  }
 ],
 "metadata": {
  "kernelspec": {
   "display_name": "Python 3",
   "language": "python",
   "name": "python3"
  },
  "language_info": {
   "codemirror_mode": {
    "name": "ipython",
    "version": 3
   },
   "file_extension": ".py",
   "mimetype": "text/x-python",
   "name": "python",
   "nbconvert_exporter": "python",
   "pygments_lexer": "ipython3",
   "version": "3.8.3"
  }
 },
 "nbformat": 4,
 "nbformat_minor": 4
}
