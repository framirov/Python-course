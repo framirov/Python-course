{
 "cells": [
  {
   "cell_type": "code",
   "execution_count": null,
   "metadata": {},
   "outputs": [],
   "source": [
    "s=[int(input())]\n",
    "while sum(s)!=0: s.append(int(input()))\n",
    "print(sum([i**2 for i in s]))"
   ]
  },
  {
   "cell_type": "code",
   "execution_count": null,
   "metadata": {},
   "outputs": [],
   "source": [
    "n = int(input())\n",
    "i = 1\n",
    "ans = ''\n",
    "s = 0\n",
    "while (s < n):\n",
    "    count = 0\n",
    "    while(count < i) & (s < n) :\n",
    "        ans += str(i) + ' '\n",
    "        count += 1\n",
    "        s+= 1\n",
    "    i += 1\n",
    "print(ans)"
   ]
  },
  {
   "cell_type": "code",
   "execution_count": null,
   "metadata": {},
   "outputs": [],
   "source": [
    "lst = [int(i) for i  in input().split()]\n",
    "a = int(input())\n",
    "ans = ''\n",
    "for i in range(len(lst)):\n",
    "  if (a == lst[i]):\n",
    "    ans += str(i) + ' '\n",
    "if (len(ans) > 0):\n",
    "  print(ans)\n",
    "else:\n",
    "  print('Отсутствует')"
   ]
  },
  {
   "cell_type": "code",
   "execution_count": null,
   "metadata": {},
   "outputs": [],
   "source": [
    "a = []\n",
    "i = 0\n",
    "r = input()\n",
    "while (r != 'end'):\n",
    "    a.append([int(i) for i  in r.split()])\n",
    "    i += 1\n",
    "    r = r = input()\n",
    "nn = len(a)\n",
    "mm = len(a[0])\n",
    "for i in range(nn):\n",
    "  ans = ''\n",
    "  for j in range(mm):\n",
    "    ans += str(a[i][j-1] + a[i][(j+1)%mm] + a[(i+1) % nn][j] + a[i-1][j]) + ' '\n",
    "  i += 1\n",
    "  print(ans)"
   ]
  }
 ],
 "metadata": {
  "kernelspec": {
   "display_name": "Python 3",
   "language": "python",
   "name": "python3"
  },
  "language_info": {
   "codemirror_mode": {
    "name": "ipython",
    "version": 3
   },
   "file_extension": ".py",
   "mimetype": "text/x-python",
   "name": "python",
   "nbconvert_exporter": "python",
   "pygments_lexer": "ipython3",
   "version": "3.8.3"
  }
 },
 "nbformat": 4,
 "nbformat_minor": 4
}
