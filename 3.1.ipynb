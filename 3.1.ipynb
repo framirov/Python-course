{
 "cells": [
  {
   "cell_type": "code",
   "execution_count": null,
   "metadata": {},
   "outputs": [],
   "source": [
    "def f(x):\n",
    "    if (x <= -2):\n",
    "        return(1 - (x+2) ** 2)\n",
    "    elif x > 2:\n",
    "        return((x - 2) ** 2 + 1)\n",
    "    else:\n",
    "        return(-x/2)"
   ]
  },
  {
   "cell_type": "code",
   "execution_count": null,
   "metadata": {},
   "outputs": [],
   "source": [
    "def modify_list(lst):\n",
    "    i = 0\n",
    "    while (i < len(lst)):\n",
    "        if (lst[i] % 2 != 0):\n",
    "            lst.remove(lst[i])\n",
    "        else:\n",
    "            lst[i] = lst[i] // 2\n",
    "            i+=1"
   ]
  }
 ],
 "metadata": {
  "kernelspec": {
   "display_name": "Python 3",
   "language": "python",
   "name": "python3"
  },
  "language_info": {
   "codemirror_mode": {
    "name": "ipython",
    "version": 3
   },
   "file_extension": ".py",
   "mimetype": "text/x-python",
   "name": "python",
   "nbconvert_exporter": "python",
   "pygments_lexer": "ipython3",
   "version": "3.8.3"
  }
 },
 "nbformat": 4,
 "nbformat_minor": 4
}
