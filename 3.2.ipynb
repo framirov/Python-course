{
 "cells": [
  {
   "cell_type": "code",
   "execution_count": null,
   "metadata": {},
   "outputs": [],
   "source": [
    "def update_dictionary(d, key, value):\n",
    "    if (key in d):\n",
    "        d[key] += [value]\n",
    "    elif ((key*2) in d):\n",
    "        d[key*2] += [value]\n",
    "    else:\n",
    "        d[key*2] = [value]"
   ]
  },
  {
   "cell_type": "code",
   "execution_count": null,
   "metadata": {},
   "outputs": [],
   "source": [
    "s = input().lower().split()\n",
    "d = {}\n",
    "b = set()\n",
    "for i in s:\n",
    "    if (i not in b):\n",
    "        b.add(i)\n",
    "        d[i] = 1\n",
    "    else:\n",
    "        d[i] += 1\n",
    "for i in b:\n",
    "    print(i + ' ' + str(d[i]))"
   ]
  },
  {
   "cell_type": "code",
   "execution_count": null,
   "metadata": {},
   "outputs": [],
   "source": [
    "n = int(input())\n",
    "d = {}\n",
    "for i in range(n):\n",
    "    x = int(input())\n",
    "    if (x in d):\n",
    "        print(d[x])\n",
    "    else:\n",
    "        ans = f(x)\n",
    "        d[x] = ans\n",
    "        print(ans)"
   ]
  }
 ],
 "metadata": {
  "kernelspec": {
   "display_name": "Python 3",
   "language": "python",
   "name": "python3"
  },
  "language_info": {
   "codemirror_mode": {
    "name": "ipython",
    "version": 3
   },
   "file_extension": ".py",
   "mimetype": "text/x-python",
   "name": "python",
   "nbconvert_exporter": "python",
   "pygments_lexer": "ipython3",
   "version": "3.8.3"
  }
 },
 "nbformat": 4,
 "nbformat_minor": 4
}
