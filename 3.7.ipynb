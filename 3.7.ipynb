{
 "cells": [
  {
   "cell_type": "code",
   "execution_count": null,
   "metadata": {},
   "outputs": [],
   "source": [
    "def command(c, res):\n",
    "    if not c in dct: dct[c] = [0, 0, 0, 0, 0]\n",
    "    dct[c] = [dct[c][0] + 1, \n",
    "                dct[c][1] + 1 if res == 3 else dct[c][1],\n",
    "                dct[c][2] + 1 if res == 1 else dct[c][2],\n",
    "                dct[c][3] + 1 if res == 0 else dct[c][3],\n",
    "                dct[c][4] + res,]  \n",
    "dct = {}\n",
    "for i in range(int(input())):\n",
    "    c1, g1, c2, g2 = input().split(';')    \n",
    "    command(c1, 3 if g1 > g2 else 1 if g1 == g2 else 0)\n",
    "    command(c2, 3 if g2 > g1 else 1 if g1 == g2 else 0)\n",
    "for c in dct:\n",
    "    print('{}:{} {} {} {} {}'.format(c, *dct[c]))"
   ]
  },
  {
   "cell_type": "code",
   "execution_count": null,
   "metadata": {},
   "outputs": [],
   "source": [
    "a = input()\n",
    "b = input()\n",
    "d = {}\n",
    "D = {}\n",
    "for i in range(len(a)):\n",
    "    d[a[i]] = b[i]\n",
    "    D[b[i]] = a[i]\n",
    "s = input()\n",
    "ans = ''\n",
    "for i in range(len(s)):\n",
    "    ans += d[s[i]]\n",
    "print(ans)\n",
    "s = input()\n",
    "ans = ''\n",
    "for i in range(len(s)):\n",
    "    ans += D[s[i]]\n",
    "print(ans)"
   ]
  },
  {
   "cell_type": "code",
   "execution_count": null,
   "metadata": {},
   "outputs": [],
   "source": [
    "a = int(input())\n",
    "words = set()\n",
    "for i in range(a):\n",
    "    s = input().lower()\n",
    "    words.add(s)\n",
    "mistakes = set()\n",
    "a = int(input())\n",
    "for i in range(a):\n",
    "    s = input().lower().split()\n",
    "    for x in s:\n",
    "        if x not in words:\n",
    "            mistakes.add(x)\n",
    "for x in mistakes:\n",
    "    print(x)"
   ]
  },
  {
   "cell_type": "code",
   "execution_count": null,
   "metadata": {},
   "outputs": [],
   "source": [
    "a = int(input())\n",
    "x = 0\n",
    "y = 0\n",
    "for i in range(a):\n",
    "    s = input().lower().split()\n",
    "    if (s[0] == 'север'):\n",
    "        x += int(s[1])\n",
    "    if (s[0] == 'юг'):\n",
    "        x -= int(s[1])\n",
    "    if (s[0] == 'восток'):\n",
    "        y += int(s[1])\n",
    "    if (s[0] == 'запад'):\n",
    "        y -= int(s[1])\n",
    "print(str(y) + ' ' + str(x))"
   ]
  },
  {
   "cell_type": "code",
   "execution_count": null,
   "metadata": {},
   "outputs": [],
   "source": []
  }
 ],
 "metadata": {
  "kernelspec": {
   "display_name": "Python 3",
   "language": "python",
   "name": "python3"
  },
  "language_info": {
   "codemirror_mode": {
    "name": "ipython",
    "version": 3
   },
   "file_extension": ".py",
   "mimetype": "text/x-python",
   "name": "python",
   "nbconvert_exporter": "python",
   "pygments_lexer": "ipython3",
   "version": "3.8.3"
  }
 },
 "nbformat": 4,
 "nbformat_minor": 4
}
